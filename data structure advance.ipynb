{
 "cells": [
  {
   "cell_type": "code",
   "execution_count": null,
   "id": "4c90d4c7",
   "metadata": {},
   "outputs": [],
   "source": [
    "r=4\n",
    "while 0<r<=4:\n",
    "    c=1\n",
    "    while c<=r:\n",
    "        \n",
    "        print(\"*\",end=\" \")\n",
    "        c=c+1\n",
    "    print()\n",
    "    r=r-1\n",
    "    "
   ]
  },
  {
   "cell_type": "code",
   "execution_count": null,
   "id": "6e067cf4",
   "metadata": {},
   "outputs": [],
   "source": [
    "for i in range(1,6):\n",
    "    for j in range(1,i+1):\n",
    "        print(j,end=\" \")\n",
    "    print()"
   ]
  },
  {
   "cell_type": "code",
   "execution_count": null,
   "id": "cbbfd207",
   "metadata": {},
   "outputs": [],
   "source": [
    "n=int(input(\"enter any no. \"))\n",
    "for i in range(2,n):\n",
    "    if n%i==0:\n",
    "        print(\"it is not a prime no.\")\n",
    "        break\n",
    "else:\n",
    "        print(\"it is a prime no.\")\n",
    "    "
   ]
  },
  {
   "cell_type": "code",
   "execution_count": null,
   "id": "797726a0",
   "metadata": {},
   "outputs": [],
   "source": [
    "n=int(input(\"enter any no. \"))\n",
    "for i in range(2,n):\n",
    "    if n%i==0:\n",
    "        if n%i!=0:\n",
    "            \n",
    "            print(i,end=\" \")\n",
    "        "
   ]
  },
  {
   "cell_type": "code",
   "execution_count": null,
   "id": "54b3cc0c",
   "metadata": {},
   "outputs": [],
   "source": [
    "n=int(input(\"enter any no. \"))\n",
    "for i in range(2,n):\n",
    "    if n%i==0:\n",
    "        print(\"it is not a prime no.\")\n",
    "        break\n",
    "else:\n",
    "        print(\"it is a prime no.\")\n",
    "    "
   ]
  },
  {
   "cell_type": "code",
   "execution_count": null,
   "id": "07829f9b",
   "metadata": {},
   "outputs": [],
   "source": [
    "a=\"hustle\"\n",
    "b=a[::-1]\n",
    "b"
   ]
  },
  {
   "cell_type": "code",
   "execution_count": null,
   "id": "561e5e11",
   "metadata": {},
   "outputs": [],
   "source": [
    "a=input(\"enter any text \")\n",
    "b=[\"a\",\"e\",\"i\",\"o\",\"u\"]\n",
    "count=0\n",
    "for i in a:\n",
    "    if i in b:\n",
    "        count=count+1\n",
    "print(count)\n",
    "    \n",
    "\n",
    "    \n",
    "    \n",
    "    "
   ]
  },
  {
   "cell_type": "code",
   "execution_count": null,
   "id": "777d1d59",
   "metadata": {},
   "outputs": [],
   "source": [
    "a=input(\"enter any text \")\n",
    "b=a[::-1]\n",
    "if b==a:\n",
    "    print(\"palindrome\")\n",
    "else:\n",
    "    print(\"not palindrome\")\n",
    "    "
   ]
  },
  {
   "cell_type": "code",
   "execution_count": null,
   "id": "3736673e",
   "metadata": {},
   "outputs": [],
   "source": [
    "a=input(\"enter any text \")\n",
    "b=input(\"enter any text \")\n",
    "\n",
    "if len(a)==len(b):\n",
    "    for a in b:\n",
    "        print(\"anagram\")\n",
    "        \n",
    "    "
   ]
  },
  {
   "cell_type": "code",
   "execution_count": null,
   "id": "0a6ee3e7",
   "metadata": {},
   "outputs": [],
   "source": [
    "a=\"helo\"\n",
    "b=set(a)\n",
    "if len(a)==len(b):\n",
    "    print(\"all char are unique\")\n",
    "else:\n",
    "    print(\"not unique\")\n"
   ]
  },
  {
   "cell_type": "code",
   "execution_count": null,
   "id": "47d77314",
   "metadata": {},
   "outputs": [],
   "source": [
    "a=input(\"enter any word \")\n",
    "b=len(a)\n",
    "b"
   ]
  },
  {
   "cell_type": "code",
   "execution_count": null,
   "id": "c59cd463",
   "metadata": {},
   "outputs": [],
   "source": [
    "a=\"mohit\"\n",
    "b=\"panwar\"\n",
    "print(f\"{a} {b}\")"
   ]
  },
  {
   "cell_type": "code",
   "execution_count": null,
   "id": "9c559218",
   "metadata": {},
   "outputs": [],
   "source": [
    "a=[1,2,3,4,5,2,4,5]\n",
    "a.remove(2)\n",
    "print(a)"
   ]
  },
  {
   "cell_type": "code",
   "execution_count": null,
   "id": "5f81e7a9",
   "metadata": {},
   "outputs": [],
   "source": [
    "a=[1,2,3,4,5,2,4,5]\n",
    "c=[b for b in a if b!=2]\n",
    "print(c)"
   ]
  },
  {
   "cell_type": "code",
   "execution_count": null,
   "id": "17486f02",
   "metadata": {},
   "outputs": [],
   "source": [
    "a=[1,2,3,4,5,7,70,91,90]\n",
    "b=sorted(a)\n",
    "c=b[-2]\n",
    "print(c)\n"
   ]
  },
  {
   "cell_type": "code",
   "execution_count": null,
   "id": "8a03fbed",
   "metadata": {},
   "outputs": [],
   "source": [
    "#\u0012 Write a code to reverse a list in-place without using any built-in reverse functions\u0012\n",
    "list=['mohit','panwar','hustle']\n",
    "list[::-1]\n"
   ]
  },
  {
   "cell_type": "code",
   "execution_count": null,
   "id": "d9a26490",
   "metadata": {},
   "outputs": [],
   "source": [
    "#Write a function that inputs a number and prints the multiplication table of that number\n",
    "def multiplication_table(a):\n",
    "    for i in range(1,11):\n",
    "        multiplication=i*a\n",
    "        print(i,\"*\",a,\"=\",multiplication)"
   ]
  },
  {
   "cell_type": "code",
   "execution_count": null,
   "id": "6d3b708e",
   "metadata": {},
   "outputs": [],
   "source": [
    "multiplication_table(7)"
   ]
  },
  {
   "cell_type": "code",
   "execution_count": null,
   "id": "82ca0ec1",
   "metadata": {},
   "outputs": [],
   "source": [
    "def multiplication_table(a):\n",
    "    for i in range(1, 11):  # Loop from 1 to 10\n",
    "        multiplication = i * a\n",
    "        print(i, \"*\", a, \"=\", multiplication)  # Print the result in the format \"i * a = result\"\n"
   ]
  },
  {
   "cell_type": "code",
   "execution_count": null,
   "id": "c38a95f5",
   "metadata": {},
   "outputs": [],
   "source": [
    "multiplication_table(3)"
   ]
  },
  {
   "cell_type": "code",
   "execution_count": null,
   "id": "7a7b79e9",
   "metadata": {},
   "outputs": [],
   "source": [
    "def sum1(a,b):\n",
    "    c=a+b\n",
    "    print(c)"
   ]
  },
  {
   "cell_type": "code",
   "execution_count": null,
   "id": "bd5283b4",
   "metadata": {},
   "outputs": [],
   "source": [
    "sum1(5,4)"
   ]
  },
  {
   "cell_type": "code",
   "execution_count": null,
   "id": "8e3535b8",
   "metadata": {},
   "outputs": [],
   "source": [
    "def sum2(a,b):\n",
    "    c=a+b\n",
    "    return c\n"
   ]
  },
  {
   "cell_type": "code",
   "execution_count": null,
   "id": "dc9f741e",
   "metadata": {},
   "outputs": [],
   "source": [
    "sum2(5,4)"
   ]
  },
  {
   "cell_type": "code",
   "execution_count": null,
   "id": "fb2ce168",
   "metadata": {},
   "outputs": [],
   "source": [
    "#Write a code to reverse a list in-place without using any built-in reverse functions\u0012\n",
    "\n",
    "    "
   ]
  },
  {
   "cell_type": "code",
   "execution_count": null,
   "id": "8f7d3e90",
   "metadata": {},
   "outputs": [],
   "source": [
    "def reverse(my_list):\n",
    "    left=0\n",
    "    right=len(my_list)-1\n",
    "    \n",
    "    while left<right:\n",
    "        my_list[left],my_list[right]=my_list[right],my_list[left]\n",
    "        left+=1\n",
    "        right-=1\n",
    "    return my_list"
   ]
  },
  {
   "cell_type": "code",
   "execution_count": null,
   "id": "b99bcd94",
   "metadata": {},
   "outputs": [],
   "source": [
    "reverse([1,2,3,4,5])"
   ]
  },
  {
   "cell_type": "code",
   "execution_count": null,
   "id": "d41eff17",
   "metadata": {},
   "outputs": [],
   "source": [
    "# Implement a code to find and remove duplicates from a list while preserving the original order of elements\n",
    "def remove_duplicate(a):\n",
    "    my_list=[]\n",
    "    my_set=set()\n",
    "    for i in a:\n",
    "        if i not in my_set:\n",
    "            my_list.append(i)\n",
    "            my_set.add(i)\n",
    "    return my_list\n",
    "            "
   ]
  },
  {
   "cell_type": "code",
   "execution_count": null,
   "id": "504e83f2",
   "metadata": {},
   "outputs": [],
   "source": [
    "(remove_duplicate([1,2,2,4,5,3]))"
   ]
  },
  {
   "cell_type": "code",
   "execution_count": null,
   "id": "b36499c8",
   "metadata": {},
   "outputs": [],
   "source": [
    "#Create a code to check if a given list is sorted (either in ascending or descending order) or not\n",
    "def sorted1(a):\n",
    "    if a==sorted(a):\n",
    "        print(\"the list is sorted in ascending order\")\n",
    "    elif a==sorted(a,reverse=True):\n",
    "        print(\"the list is sorted in descending order\")\n",
    "    else:\n",
    "        print(\"the list is not sorted\")\n",
    "    return a"
   ]
  },
  {
   "cell_type": "code",
   "execution_count": null,
   "id": "612cf314",
   "metadata": {},
   "outputs": [],
   "source": [
    "sorted1([1,3,4,6,2])"
   ]
  },
  {
   "cell_type": "code",
   "execution_count": null,
   "id": "55b803a7",
   "metadata": {},
   "outputs": [],
   "source": [
    "# Write a code to merge two sorted lists into a single sorted list\n",
    "def sort(a,b):\n",
    "    a=sorted(a)\n",
    "    b=sorted(b)\n",
    "    c=a+b\n",
    "    return c"
   ]
  },
  {
   "cell_type": "code",
   "execution_count": null,
   "id": "1ad22fa7",
   "metadata": {},
   "outputs": [],
   "source": [
    "sort([1,3,2],[6,5,4])"
   ]
  },
  {
   "cell_type": "code",
   "execution_count": null,
   "id": "b22d8538",
   "metadata": {},
   "outputs": [],
   "source": [
    "#Implement a code to find the intersection of two given lists\u0012\n",
    "def list_intersection(m,n):\n",
    "    list_1=[]\n",
    "    for i in m:\n",
    "        if i in n:\n",
    "            list_1.append(i)\n",
    "    return list_1\n",
    "            \n"
   ]
  },
  {
   "cell_type": "code",
   "execution_count": null,
   "id": "82076ddd",
   "metadata": {},
   "outputs": [],
   "source": [
    "list_intersection([1,2,3,4],[3,4,5,6])"
   ]
  },
  {
   "cell_type": "code",
   "execution_count": null,
   "id": "bd6b1e44",
   "metadata": {},
   "outputs": [],
   "source": [
    "#Create a code to find the union of two lists without duplicates\n",
    "def union(x,y):\n",
    "    a=list(set(x)|set(y))\n",
    "    return a"
   ]
  },
  {
   "cell_type": "code",
   "execution_count": null,
   "id": "c46218ea",
   "metadata": {},
   "outputs": [],
   "source": [
    "union([1,2,3,4,5,6],[3,4,5,6,7,8,9])"
   ]
  },
  {
   "cell_type": "code",
   "execution_count": null,
   "id": "25d9b451",
   "metadata": {},
   "outputs": [],
   "source": [
    "#Write a code that takes two tuples as input and returns a new tuple containing elements that are\n",
    "#common to both input tuples\n",
    "def tuple1(tuple_1,tuple_2):\n",
    "    common_tuple=set(tuple_1) & set(tuple_2)\n",
    "    return tuple(common_tuple)"
   ]
  },
  {
   "cell_type": "code",
   "execution_count": null,
   "id": "66a8340f",
   "metadata": {},
   "outputs": [],
   "source": [
    "tuple1((1,2,3,4,5),(3,4,5,6,7))"
   ]
  },
  {
   "cell_type": "code",
   "execution_count": null,
   "id": "7e434ddb",
   "metadata": {},
   "outputs": [],
   "source": [
    " #Create a code that prompts the user to enter two sets of integers separated by commas. Then, print the\n",
    "#intersection of these two sets\n",
    "def set1(set_1,set_2):\n",
    "    intersection_set=(set_1) & (set_2)\n",
    "    return intersection_set"
   ]
  },
  {
   "cell_type": "code",
   "execution_count": null,
   "id": "0e148154",
   "metadata": {},
   "outputs": [],
   "source": [
    "set1({1,2,3},{2,3,4})"
   ]
  },
  {
   "cell_type": "code",
   "execution_count": null,
   "id": "00469bd4",
   "metadata": {},
   "outputs": [],
   "source": [
    "#Write a code to concatenate two tuples. The function should take two tuples as input and return a new\n",
    "#tuple containing elements from both input tuples.\n",
    "def tuple1(t1,t2):\n",
    "    t3=t1+t2\n",
    "    return tuple(t3)"
   ]
  },
  {
   "cell_type": "code",
   "execution_count": null,
   "id": "e820e30b",
   "metadata": {},
   "outputs": [],
   "source": [
    "tuple1((1,2,3),(5,9,7))"
   ]
  },
  {
   "cell_type": "code",
   "execution_count": null,
   "id": "88c68040",
   "metadata": {},
   "outputs": [],
   "source": [
    "# Develop a code that prompts the user to input two sets of strings. Then, print the elements that are\n",
    "#present in the first set but not in the second set&\n",
    "def set_main(s1,s2):\n",
    "    s3=s1-s2\n",
    "    return set(s3)"
   ]
  },
  {
   "cell_type": "code",
   "execution_count": null,
   "id": "71207797",
   "metadata": {},
   "outputs": [],
   "source": [
    "set_main({\"mohit\",\"hustle\",\"panwar\"},{\"mohit\",\"calisthenic\"})"
   ]
  },
  {
   "cell_type": "code",
   "execution_count": null,
   "id": "7c009dcb",
   "metadata": {},
   "outputs": [],
   "source": [
    "#Create a code that takes a tuple and two integers as input. The function should return a new tuple\n",
    "#containing elements from the original tuple within the specified range of indices&\n",
    "def tuple_main(t1,i1,i3):\n",
    "    t3=t1[i1:i3+1]\n",
    "    return tuple(t3)"
   ]
  },
  {
   "cell_type": "code",
   "execution_count": null,
   "id": "ccaf8a2f",
   "metadata": {},
   "outputs": [],
   "source": [
    "tuple_main((1,2,3,4,5,6),1,4)"
   ]
  },
  {
   "cell_type": "code",
   "execution_count": null,
   "id": "69dde8d0",
   "metadata": {},
   "outputs": [],
   "source": [
    "#Write a code that prompts the user to input two sets of characters. Then, print the union of these two sets&\n",
    "def union(u1,u2):\n",
    "    u3=set(u1)|set(u2)\n",
    "    return set(u3)"
   ]
  },
  {
   "cell_type": "code",
   "execution_count": null,
   "id": "0f5b4372",
   "metadata": {},
   "outputs": [],
   "source": [
    "union({\"mohit\",\"hustle\",\"panwar\"},{\"mohit\",\"calisthenic\"})"
   ]
  },
  {
   "cell_type": "code",
   "execution_count": null,
   "id": "1d3bbe5c",
   "metadata": {},
   "outputs": [],
   "source": [
    "# Develop a code that takes a tuple of integers as input. The function should return the maximum and\n",
    "#minimum values from the tuple using tuple unpacking\n",
    "def tuple_main(t1):\n",
    "    a,b=max(t1),min(t1)\n",
    "    print(a,b)\n",
    "    "
   ]
  },
  {
   "cell_type": "code",
   "execution_count": null,
   "id": "a25d891d",
   "metadata": {},
   "outputs": [],
   "source": [
    "tuple_main((1,2,3,4,5))"
   ]
  },
  {
   "cell_type": "code",
   "execution_count": null,
   "id": "7b8c9ae6",
   "metadata": {},
   "outputs": [],
   "source": [
    "#Create a code that defines two sets of integers. Then, print the union, intersection, and difference of these\n",
    "#two sets\n",
    "def set_operations(set1, set2):\n",
    "    # Union: All elements from both sets\n",
    "    union_result = set1 | set2\n",
    "    \n",
    "    # Intersection: Common elements in both sets\n",
    "    intersection_result = set1 & set2\n",
    "    \n",
    "    # Difference: Elements present in set1 but not in set2\n",
    "    difference_result = set1 - set2\n",
    "    \n",
    "    # Printing the results\n",
    "    print(\"Union of sets:\", union_result)\n",
    "    print(\"Intersection of sets:\", intersection_result)\n",
    "    print(\"Difference of sets (set1 - set2):\", difference_result)\n",
    "\n",
    "\n"
   ]
  },
  {
   "cell_type": "code",
   "execution_count": null,
   "id": "812b16ce",
   "metadata": {},
   "outputs": [],
   "source": [
    "set_operations({1,2,3,4,5},{2,4,5})"
   ]
  },
  {
   "cell_type": "code",
   "execution_count": null,
   "id": "c04d7371",
   "metadata": {},
   "outputs": [],
   "source": [
    "#Write a code that takes a tuple and an element as input. The function should return the count of\n",
    "#occurrences of the given element in the tuple\n",
    "def count_occurrences():\n",
    "    # Taking a space-separated string of numbers as input and converting to a tuple\n",
    "    tup = tuple(map(int, input(\"Enter elements of the tuple (space-separated): \").split()))\n",
    "    element = int(input(\"Enter the element to count: \"))\n",
    "    \n",
    "    # Returning the count of the element in the tuple\n",
    "    return tup.count(element)\n",
    "\n",
    "\n",
    "    "
   ]
  },
  {
   "cell_type": "code",
   "execution_count": null,
   "id": "23834bd9",
   "metadata": {},
   "outputs": [],
   "source": [
    "count_occurrences()"
   ]
  },
  {
   "cell_type": "code",
   "execution_count": null,
   "id": "0040aca3",
   "metadata": {},
   "outputs": [],
   "source": [
    "#Develop a code that prompts the user to input two sets of strings. Then, print the symmetric difference of\n",
    "#these two sets\n",
    "def set_1():\n",
    "    a=set(input(\"enter the elements\").split())\n",
    "    b=set(input(\"enter the elements\").split())\n",
    "    c=a^b\n",
    "    return c"
   ]
  },
  {
   "cell_type": "code",
   "execution_count": null,
   "id": "f9dbb11f",
   "metadata": {},
   "outputs": [],
   "source": [
    "set_1()"
   ]
  },
  {
   "cell_type": "code",
   "execution_count": 1,
   "id": "14d3160a",
   "metadata": {},
   "outputs": [],
   "source": [
    "#Write a code that takes a list of words as input and returns a dictionary where the keys are unique words\n",
    "#and the values are the frequencies of those words in the input list\n",
    "def count_occurrences(input_list):\n",
    "    # Create an empty dictionary to store the counts\n",
    "    count_dict = {}\n",
    "\n",
    "    # Iterate through each element in the list\n",
    "    for element in input_list:\n",
    "        # If the element is already in the dictionary, increment its count\n",
    "        if element in count_dict:\n",
    "            count_dict[element] += 1\n",
    "        # Otherwise, add the element to the dictionary with count 1\n",
    "        else:\n",
    "            count_dict[element] = 1\n",
    "\n",
    "    return count_dict\n",
    "\n",
    "# Example usage\n"
   ]
  },
  {
   "cell_type": "code",
   "execution_count": 4,
   "id": "6d0277df",
   "metadata": {},
   "outputs": [
    {
     "data": {
      "text/plain": [
       "{'mohit': 2, 'rohit': 1}"
      ]
     },
     "execution_count": 4,
     "metadata": {},
     "output_type": "execute_result"
    }
   ],
   "source": [
    "count_occurrences([\"mohit\",\"mohit\",\"rohit\"])"
   ]
  },
  {
   "cell_type": "code",
   "execution_count": 7,
   "id": "10c0401f",
   "metadata": {},
   "outputs": [],
   "source": [
    "#Write a code that takes two dictionaries as input and merges them into a single dictionary. If there are\n",
    "#common keys, the values should be added together\n",
    "def merge_dic(a,b):\n",
    "    \n",
    "    for key,value in b.items():\n",
    "        if key in a:\n",
    "            a[key]+=value\n",
    "        else:\n",
    "            a[key]=value\n",
    "    return a"
   ]
  },
  {
   "cell_type": "code",
   "execution_count": 8,
   "id": "bcd51345",
   "metadata": {},
   "outputs": [
    {
     "data": {
      "text/plain": [
       "{'a': 2, 'b': 7, 'c': 9, 'd': 6}"
      ]
     },
     "execution_count": 8,
     "metadata": {},
     "output_type": "execute_result"
    }
   ],
   "source": [
    "merge_dic({\"a\":2,\"b\":3,\"c\":4},{\"b\":4,\"c\":5,\"d\":6})"
   ]
  },
  {
   "cell_type": "code",
   "execution_count": 9,
   "id": "12db8e22",
   "metadata": {},
   "outputs": [],
   "source": [
    "#Write a code to access a value in a nested dictionary. The function should take the dictionary and a list of\n",
    "#keys as input, and return the corresponding value. If any of the keys do not exist in the dictionary, the\n",
    "#function should return None\n",
    "def get_nested_value(dictionary, keys):\n",
    "    value = dictionary\n",
    "    for key in keys:\n",
    "        if isinstance(value, dict) and key in value:\n",
    "            value = value[key]\n",
    "        else:\n",
    "            return None\n",
    "    return value\n"
   ]
  },
  {
   "cell_type": "code",
   "execution_count": 10,
   "id": "b7fa5a85",
   "metadata": {},
   "outputs": [],
   "source": [
    "#Write a code that takes a dictionary as input and returns a sorted version of it based on the values. You\n",
    "#can choose whether to sort in ascending or descending order\n",
    "def invert_dict(d):\n",
    "    inverted = {}\n",
    "    for key, value in d.items():\n",
    "        if value in inverted:\n",
    "            inverted[value].append(key)\n",
    "        else:\n",
    "            inverted[value] = [key]\n",
    "    return inverted\n",
    "\n",
    "\n"
   ]
  },
  {
   "cell_type": "code",
   "execution_count": 1,
   "id": "f4077d97",
   "metadata": {},
   "outputs": [],
   "source": [
    "#Write a code that inverts a dictionary, swapping keys and values. Ensure that the inverted dictionary\n",
    "#correctly handles cases where multiple keys have the same value by storing the keys as a list in the\n",
    "#inverted dictionary.\n",
    "def invert_dict(d):\n",
    "    inverted = {}\n",
    "    for key, value in d.items():\n",
    "        if value in inverted:\n",
    "            inverted[value].append(key)\n",
    "        else:\n",
    "            inverted[value] = [key]\n",
    "    return inverted\n"
   ]
  },
  {
   "cell_type": "code",
   "execution_count": 8,
   "id": "44fda70a",
   "metadata": {},
   "outputs": [
    {
     "ename": "IndentationError",
     "evalue": "unindent does not match any outer indentation level (<tokenize>, line 3)",
     "output_type": "error",
     "traceback": [
      "\u001b[1;36m  File \u001b[1;32m\"<tokenize>\"\u001b[1;36m, line \u001b[1;32m3\u001b[0m\n\u001b[1;33m    print(func(3))\u001b[0m\n\u001b[1;37m    ^\u001b[0m\n\u001b[1;31mIndentationError\u001b[0m\u001b[1;31m:\u001b[0m unindent does not match any outer indentation level\n"
     ]
    }
   ],
   "source": [
    "\n",
    "def func(x,y=5):\n",
    "    return x+y\n",
    " print(func(3))"
   ]
  },
  {
   "cell_type": "code",
   "execution_count": 6,
   "id": "a81acb19",
   "metadata": {},
   "outputs": [
    {
     "data": {
      "text/plain": [
       "8"
      ]
     },
     "execution_count": 6,
     "metadata": {},
     "output_type": "execute_result"
    }
   ],
   "source": [
    "func(3)"
   ]
  },
  {
   "cell_type": "code",
   "execution_count": 4,
   "id": "3934e075",
   "metadata": {},
   "outputs": [],
   "source": [
    "x=lambda x:x**2"
   ]
  },
  {
   "cell_type": "code",
   "execution_count": 6,
   "id": "4f4c7f09",
   "metadata": {},
   "outputs": [
    {
     "data": {
      "text/plain": [
       "9801"
      ]
     },
     "execution_count": 6,
     "metadata": {},
     "output_type": "execute_result"
    }
   ],
   "source": [
    "x(99)"
   ]
  },
  {
   "cell_type": "code",
   "execution_count": 8,
   "id": "162bb033",
   "metadata": {},
   "outputs": [],
   "source": [
    "from functools import reduce"
   ]
  },
  {
   "cell_type": "code",
   "execution_count": 19,
   "id": "6b406e72",
   "metadata": {},
   "outputs": [],
   "source": [
    "#1. Write a Python function that takes a list of numbers as input and returns the sum of all even numbers in\n",
    "#the list.\n",
    "def list_main(a):\n",
    "    sum_even=reduce(lambda x,y:x+y if  y%2==0 else x,a,0)\n",
    "    return sum_even"
   ]
  },
  {
   "cell_type": "code",
   "execution_count": 21,
   "id": "b3653604",
   "metadata": {},
   "outputs": [],
   "source": [
    "def list_main1(b):\n",
    "    return sum(filter(lambda x:x%2==0,b))"
   ]
  },
  {
   "cell_type": "code",
   "execution_count": 24,
   "id": "ab32f1a6",
   "metadata": {},
   "outputs": [],
   "source": [
    "def list_main2(c):\n",
    "    sum_1=0\n",
    "    for i in c:\n",
    "        if i%2==0:\n",
    "            sum_1=sum_1+i\n",
    "            \n",
    "        \n",
    "    return sum_1"
   ]
  },
  {
   "cell_type": "code",
   "execution_count": 27,
   "id": "fbbe6d50",
   "metadata": {},
   "outputs": [],
   "source": [
    "# Implement a Python function that takes a list of integers and returns a new list containing the squares of\n",
    "#each number.\n",
    "def sq_list(a):\n",
    "    b=[]\n",
    "    for i in a:\n",
    "        b.append(i**2)\n",
    "    return b"
   ]
  },
  {
   "cell_type": "code",
   "execution_count": 29,
   "id": "9d9a1250",
   "metadata": {},
   "outputs": [],
   "source": [
    "def sq_list1(b):\n",
    "    return list(map(lambda x:x**2,b))"
   ]
  },
  {
   "cell_type": "code",
   "execution_count": 47,
   "id": "7c84474f",
   "metadata": {},
   "outputs": [],
   "source": [
    "# Write a Python function that checks if a given number is prime or not from 1 to 200\n",
    "def prime_num(a): \n",
    "    if a <= 1:\n",
    "        print(\"Not a prime number\")\n",
    "        return False\n",
    "    for i in range(2, int(a**0.5) + 1):\n",
    "        if a % i == 0:\n",
    "            print(\"Not a prime number\")\n",
    "            return False\n",
    "    print(\"It is a prime number\")\n",
    "    return True\n",
    "    return a\n",
    "    "
   ]
  },
  {
   "cell_type": "code",
   "execution_count": 70,
   "id": "a88fa37c",
   "metadata": {},
   "outputs": [],
   "source": [
    "def prime_num1(b):\n",
    "    its_prime =lambda x:all(x%i!=0 for i in range(2,int(x**.5)+1)) and x>=1\n",
    "    return its_prime(b)"
   ]
  },
  {
   "cell_type": "code",
   "execution_count": 79,
   "id": "2979b845",
   "metadata": {},
   "outputs": [
    {
     "name": "stdout",
     "output_type": "stream",
     "text": [
      "5\n",
      "0 1 1 2 3 "
     ]
    }
   ],
   "source": [
    "n=int(input())\n",
    "a=0\n",
    "b=1\n",
    "for i in range(n):\n",
    "    print(a,end=\" \")\n",
    "    a,b=b,a+b"
   ]
  },
  {
   "cell_type": "code",
   "execution_count": 91,
   "id": "627fba9a",
   "metadata": {},
   "outputs": [],
   "source": [
    "class FibonacciIterator:\n",
    "    def __init__(self, num_terms):\n",
    "        self.num_terms = num_terms\n",
    "        self.a, self.b = 0, 1  # Starting values for Fibonacci\n",
    "\n",
    "    def __iter__(self):\n",
    "        return self  # The iterator object itself is returned\n",
    "\n",
    "    def __next__(self):\n",
    "        if self.num_terms <= 0:  # Stop when the number of terms is reached\n",
    "            raise StopIteration\n",
    "        else:\n",
    "            # Return the current Fibonacci number and update for the next one\n",
    "            self.num_terms -= 1\n",
    "            self.a, self.b = self.b, self.a + self.b\n",
    "            return self.a\n",
    "\n",
    "\n"
   ]
  },
  {
   "cell_type": "code",
   "execution_count": 92,
   "id": "285d19d9",
   "metadata": {},
   "outputs": [],
   "source": [
    "a=FibonacciIterator(10)"
   ]
  },
  {
   "cell_type": "code",
   "execution_count": 85,
   "id": "04296196",
   "metadata": {},
   "outputs": [
    {
     "data": {
      "text/plain": [
       "<__main__.FibonacciIterator at 0x268d7b9b310>"
      ]
     },
     "execution_count": 85,
     "metadata": {},
     "output_type": "execute_result"
    }
   ],
   "source": [
    "a"
   ]
  },
  {
   "cell_type": "code",
   "execution_count": 86,
   "id": "9bb323eb",
   "metadata": {},
   "outputs": [
    {
     "data": {
      "text/plain": [
       "1"
      ]
     },
     "execution_count": 86,
     "metadata": {},
     "output_type": "execute_result"
    }
   ],
   "source": [
    "next(a)"
   ]
  },
  {
   "cell_type": "code",
   "execution_count": 87,
   "id": "d0b0aea1",
   "metadata": {},
   "outputs": [
    {
     "data": {
      "text/plain": [
       "1"
      ]
     },
     "execution_count": 87,
     "metadata": {},
     "output_type": "execute_result"
    }
   ],
   "source": [
    "next(a)"
   ]
  },
  {
   "cell_type": "code",
   "execution_count": 88,
   "id": "9717739b",
   "metadata": {},
   "outputs": [
    {
     "data": {
      "text/plain": [
       "2"
      ]
     },
     "execution_count": 88,
     "metadata": {},
     "output_type": "execute_result"
    }
   ],
   "source": [
    "next(a)"
   ]
  },
  {
   "cell_type": "code",
   "execution_count": null,
   "id": "e8d4c8dd",
   "metadata": {},
   "outputs": [],
   "source": []
  }
 ],
 "metadata": {
  "kernelspec": {
   "display_name": "Python 3 (ipykernel)",
   "language": "python",
   "name": "python3"
  },
  "language_info": {
   "codemirror_mode": {
    "name": "ipython",
    "version": 3
   },
   "file_extension": ".py",
   "mimetype": "text/x-python",
   "name": "python",
   "nbconvert_exporter": "python",
   "pygments_lexer": "ipython3",
   "version": "3.9.13"
  }
 },
 "nbformat": 4,
 "nbformat_minor": 5
}
